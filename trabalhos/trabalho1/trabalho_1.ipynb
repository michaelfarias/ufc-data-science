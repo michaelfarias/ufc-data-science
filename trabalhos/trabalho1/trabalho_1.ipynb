{
 "cells": [
  {
   "cell_type": "code",
   "execution_count": 4,
   "metadata": {
    "collapsed": true
   },
   "outputs": [],
   "source": [
    "import numpy as np\n",
    "import collections"
   ]
  },
  {
   "cell_type": "code",
   "execution_count": 1,
   "metadata": {
    "collapsed": true
   },
   "outputs": [],
   "source": [
    "def taxa(value):\n",
    "    return (100.0*value) / 295.0"
   ]
  },
  {
   "cell_type": "code",
   "execution_count": 5,
   "metadata": {},
   "outputs": [],
   "source": [
    "read_x = np.genfromtxt(fname = 'cmc.csv', delimiter=',', dtype=np.int, skip_header=0)"
   ]
  },
  {
   "cell_type": "code",
   "execution_count": 6,
   "metadata": {
    "collapsed": true
   },
   "outputs": [],
   "source": [
    "new_list_np = np.array([])"
   ]
  },
  {
   "cell_type": "code",
   "execution_count": 7,
   "metadata": {
    "collapsed": true
   },
   "outputs": [],
   "source": [
    "for i in range (100):\n",
    "\n",
    "    X = read_x\n",
    "\n",
    "    np.random.shuffle(X)\n",
    "\n",
    "\n",
    "    num_rows_trai = int(X.shape[0]*0.8)\n",
    "    num_rows_test = num_rows_trai\n",
    "\n",
    "\n",
    "    # X 1178 x 10\n",
    "    to_trai = X[0:num_rows_trai, :]\n",
    "\n",
    "    # X 295 x 10\n",
    "    to_test_1 = X[num_rows_test:]\n",
    "\n",
    "\n",
    "    # Todas as linhas da coluna 9(metodo contraceptivo), isso para treinar.\n",
    "    method_contraceptive = to_trai[:, 9]\n",
    "\n",
    "    # Elimino a ultima coluna para os dois arrays\n",
    "    to_trai = to_trai[:, :9]\n",
    "    to_test = to_test_1[:, :9]\n",
    "    to_trai = np.transpose(to_trai)\n",
    "    to_test = np.transpose(to_test)\n",
    "\n",
    "    #inicialização do vetor y com zeros\n",
    "    y = np.zeros((3, num_rows_trai))\n",
    "\n",
    "\n",
    "    #preenche o vetor Y de acordo com a escolha da mulher(1-2-3)\n",
    "    # Y 3 x 1178\n",
    "    y[ method_contraceptive - 1, np.arange( num_rows_trai) ] = 1\n",
    "\n",
    "\n",
    "    # O X é o to_trai\n",
    "    #A = YX^t(XX^t)^-1\n",
    "    A = np.dot( (np.dot(y, np.transpose(to_trai)) ),np.linalg.pinv( np.dot(to_trai, np.transpose(to_trai)) ))\n",
    "\n",
    "\n",
    "    # print(np.shape(to_test))\n",
    "\n",
    "    result_y = np.dot(A, to_test)\n",
    "    result_y_ops = np.argmax(result_y,0)\n",
    "    result_y_ops +=1\n",
    "\n",
    "    result_boolean = np.isclose(result_y_ops, to_test_1[:,9])\n",
    "\n",
    "    new_list = np.array([collections.Counter(result_boolean).get(True)])\n",
    "    new_list_np=np.concatenate((new_list_np, new_list), axis=0)"
   ]
  },
  {
   "cell_type": "code",
   "execution_count": 15,
   "metadata": {},
   "outputs": [
    {
     "name": "stdout",
     "output_type": "stream",
     "text": [
      "Taxas de acerto:\n",
      "***********************\n",
      "Média: 50.3050847458\n",
      "Máximo: 57.9661016949\n",
      "Minímo: 43.3898305085\n",
      "Desvio padrão: 8.76241975712\n"
     ]
    }
   ],
   "source": [
    "print(\"Taxas de acerto:\")\n",
    "print(\"***********************\")\n",
    "print(\"Média:\", taxa(np.mean(new_list_np)))\n",
    "\n",
    "print(\"Máximo:\", taxa(np.amax(new_list_np)))\n",
    "\n",
    "print(\"Minímo:\", taxa(np.amin(new_list_np)))\n",
    "\n",
    "print(\"Desvio padrão:\", np.std(new_list_np))\n"
   ]
  },
  {
   "cell_type": "code",
   "execution_count": null,
   "metadata": {
    "collapsed": true
   },
   "outputs": [],
   "source": []
  },
  {
   "cell_type": "code",
   "execution_count": null,
   "metadata": {
    "collapsed": true
   },
   "outputs": [],
   "source": []
  }
 ],
 "metadata": {
  "kernelspec": {
   "display_name": "Python 3",
   "language": "python",
   "name": "python3"
  },
  "language_info": {
   "codemirror_mode": {
    "name": "ipython",
    "version": 3
   },
   "file_extension": ".py",
   "mimetype": "text/x-python",
   "name": "python",
   "nbconvert_exporter": "python",
   "pygments_lexer": "ipython3",
   "version": "3.6.3"
  }
 },
 "nbformat": 4,
 "nbformat_minor": 2
}
